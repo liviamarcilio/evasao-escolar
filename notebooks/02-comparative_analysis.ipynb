{
 "cells": [
  {
   "cell_type": "markdown",
   "id": "1606910a-7706-409b-85aa-b7c7d8c86b0c",
   "metadata": {
    "tags": []
   },
   "source": [
    "# 1. Preparação de dados"
   ]
  },
  {
   "cell_type": "markdown",
   "id": "fefce1b8-be51-4b71-b3e1-b32fe37151e0",
   "metadata": {
    "tags": []
   },
   "source": [
    "## 1.1 Importando as bibliotecas"
   ]
  },
  {
   "cell_type": "code",
   "execution_count": 2,
   "id": "dc7e0e12-5f85-4bd6-b80f-87a8bf3fee34",
   "metadata": {},
   "outputs": [],
   "source": [
    "import pandas as pd\n",
    "import numpy as np\n",
    "import seaborn as sns\n",
    "from sklearn.tree import DecisionTreeClassifier\n",
    "from sklearn.model_selection import train_test_split\n",
    "from sklearn.pipeline import Pipeline\n",
    "from sklearn.impute import SimpleImputer\n",
    "from sklearn.model_selection import KFold\n",
    "from sklearn.model_selection import cross_validate\n",
    "from sklearn.model_selection import GridSearchCV\n",
    "from sklearn.compose import ColumnTransformer\n",
    "from sklearn.preprocessing import OneHotEncoder, StandardScaler, RobustScaler, OrdinalEncoder, LabelEncoder\n",
    "from sklearn.metrics import f1_score,precision_recall_fscore_support\n",
    "from sklearn.ensemble import RandomForestClassifier\n",
    "from sklearn.linear_model import LogisticRegression\n",
    "from sklearn.svm import SVC\n",
    "from sklearn.dummy import DummyClassifier"
   ]
  },
  {
   "cell_type": "markdown",
   "id": "32ab2a9c-25e7-4993-b3bb-aa44983eae97",
   "metadata": {
    "tags": []
   },
   "source": [
    "## 1.2 Importando a base de dados eo dicionario"
   ]
  },
  {
   "cell_type": "code",
   "execution_count": 3,
   "id": "d4d6b554-8fad-4d31-aaea-d6103cee045c",
   "metadata": {},
   "outputs": [],
   "source": [
    "base = pd.read_csv('../data/raw/xAPI-Edu-Data.csv')\n",
    "dicionario = pd.read_csv('../data/external/dicionario.csv')"
   ]
  },
  {
   "cell_type": "markdown",
   "id": "392ba3f7-ce3a-451b-827b-1a2bed6a4393",
   "metadata": {
    "tags": []
   },
   "source": [
    "## 1.3 Tratando os dados"
   ]
  },
  {
   "cell_type": "markdown",
   "id": "56d4ae28-f106-4c88-9363-c9fd37b54431",
   "metadata": {
    "tags": []
   },
   "source": [
    "### Tratamento de valores faltantes\n",
    "\n",
    "A base de dados não tem valores faltantes"
   ]
  },
  {
   "cell_type": "markdown",
   "id": "7ce98a5e-b888-4b52-89b4-19a6b5bfb905",
   "metadata": {
    "tags": []
   },
   "source": [
    "### Variável resposta"
   ]
  },
  {
   "cell_type": "code",
   "execution_count": 4,
   "id": "116f0c40-963e-4210-ad95-5d2814631d85",
   "metadata": {},
   "outputs": [
    {
     "data": {
      "text/plain": [
       "0    0\n",
       "1    0\n",
       "2    1\n",
       "3    1\n",
       "4    1\n",
       "Name: StudentAbsenceDays, dtype: int64"
      ]
     },
     "execution_count": 4,
     "metadata": {},
     "output_type": "execute_result"
    }
   ],
   "source": [
    "#Mapeando a variável resposta\n",
    "base['StudentAbsenceDays'].replace({'Under-7':0,'Above-7':1},inplace=True)\n",
    "base['StudentAbsenceDays'].head()"
   ]
  },
  {
   "cell_type": "markdown",
   "id": "10e704f2-e714-45e6-8363-41332e6ed371",
   "metadata": {
    "tags": []
   },
   "source": [
    "### Variáveis explicativas"
   ]
  },
  {
   "cell_type": "code",
   "execution_count": 5,
   "id": "777bd789-4a57-453d-8237-ca1519e00855",
   "metadata": {},
   "outputs": [],
   "source": [
    "#Excluindo a linha da variávelaresposta no dicionário\n",
    "dicionario.drop(index=15,\n",
    "                axis=0,\n",
    "                inplace= True)"
   ]
  },
  {
   "cell_type": "code",
   "execution_count": 6,
   "id": "d1861719-fc8b-4dec-bad2-f808323159e9",
   "metadata": {},
   "outputs": [],
   "source": [
    "#lista das variáveis quantitativas e qualitativas separadas em nominais e ordinais\n",
    "lista_nominal = dicionario.query('Subtipo == \"Nominal\"')['Variavel'].to_list()\n",
    "lista_ordinal = dicionario.query('Subtipo == \"Ordinal\"')['Variavel'].to_list()\n",
    "lista_quantitativa = dicionario.query('Tipo == \"Quantitativa\"')['Variavel'].to_list()\n",
    "\n",
    "nominal = Pipeline(steps=[\n",
    "    ('encode',OneHotEncoder(sparse=False,handle_unknown = 'ignore')),\n",
    "    ('normalizacao',StandardScaler())\n",
    "])\n",
    "\n",
    "ordinal = Pipeline(steps=[\n",
    "    ('encode',OrdinalEncoder()),\n",
    "    ('normalizacao',StandardScaler())\n",
    "])\n",
    "\n",
    "quantitativa = Pipeline(steps=[\n",
    "    ('normalizacão',StandardScaler())\n",
    "])\n",
    "\n",
    "pre_processador_x = ColumnTransformer(transformers=[\n",
    "    ('nominal',nominal,lista_nominal),\n",
    "    ('ordinal',ordinal,lista_ordinal),\n",
    "    ('quantitativa',quantitativa,lista_quantitativa)\n",
    "])"
   ]
  },
  {
   "cell_type": "markdown",
   "id": "11c74f8f-0004-42c4-af7d-9c4d0f858b9c",
   "metadata": {
    "tags": []
   },
   "source": [
    "# 2. Criando os modelos"
   ]
  },
  {
   "cell_type": "markdown",
   "id": "fcdbaeec-60c5-46a6-ac78-351f2c172060",
   "metadata": {
    "jp-MarkdownHeadingCollapsed": true,
    "tags": []
   },
   "source": [
    "## 2.1 Metodologia \n",
    "\n",
    "Nessa etapa será feita o treinamento dos modelos e sua seleção baseado em algumas métricas escolhidas. Os modelos utilizados serão os mostrados abaixo.\n",
    "\n",
    "- Random Forest \n",
    "- Logistic Regresion \n",
    "- Support Vector Machine \n",
    "- Dummy Classifier\n",
    "\n",
    "Haverá 3 etapas nesse processo. \n",
    "\n",
    "`Primeira etapa`: Será criado um modelo base para que seja usado como base para todos os outros modelos.\n",
    "\n",
    "`Segunda etapa`: Será feito a modelagem com os modelos sem nenhuma edição \n",
    "\n",
    "`Terceira etapa`: Será feito um novo treinamento só que agora com escolha novos hiper parâmetros utilizando a técnica de Busca em Grade.\n",
    "\n",
    "\n",
    "Ao fim das 3 etapas será analisado todas a soluções encontradas e selecionaremos os modelos usando métricas de validação abaixo. \n",
    "\n",
    "- Acurácia\n",
    "- F1 score"
   ]
  },
  {
   "cell_type": "markdown",
   "id": "4ff16a43-ab4e-4f36-a256-516f2df5bbaa",
   "metadata": {
    "tags": []
   },
   "source": [
    "## 2.2 Configurando o experimento"
   ]
  },
  {
   "cell_type": "markdown",
   "id": "3743b96f-f81c-4c8a-b150-0d6b38837440",
   "metadata": {
    "tags": []
   },
   "source": [
    "### Primeira etapa\n",
    "\n",
    "Agora vamos criar o modelo base para toda a nossa análise. Todos os modelos subsequentes devem ser melhores doque este modelo."
   ]
  },
  {
   "cell_type": "code",
   "execution_count": 7,
   "id": "57fcdfff-5b4c-45d5-9e6a-8cf1695ae236",
   "metadata": {},
   "outputs": [
    {
     "name": "stdout",
     "output_type": "stream",
     "text": [
      "Acurácia: 0.6020833333333333\n",
      "F1 score: 0.0\n"
     ]
    }
   ],
   "source": [
    "#Criando o Pipeline para o modelo\n",
    "model = Pipeline(steps=[\n",
    "        ('preprocessamento',pre_processador_x),\n",
    "        ('modelo',DummyClassifier())\n",
    "\n",
    "    ])\n",
    "\n",
    "#Fazendo a lista de métricas \n",
    "metricas = ['accuracy', 'f1']\n",
    "\n",
    "#Fazendo o treianamento de validação cruzada \n",
    "kfold = KFold(n_splits=10, shuffle=True, random_state=42)\n",
    "results = cross_validate(model, \n",
    "                         X = base.drop(columns=['StudentAbsenceDays']),\n",
    "                         y = base['StudentAbsenceDays'],\n",
    "                         cv = kfold,\n",
    "                         scoring = metricas\n",
    "                        )\n",
    "\n",
    "#Mostrando as métricas\n",
    "print(f\"Acurácia: {results['test_accuracy'].mean()}\\nF1 score: {results['test_f1'].mean()}\")"
   ]
  },
  {
   "cell_type": "markdown",
   "id": "2e82411a-c795-410e-9568-3a0c0afbac88",
   "metadata": {},
   "source": [
    "Agora que sabemos valor do Modelo Base, vamos treinar os outros modelos para ser pelo menos maiores que o modelo base."
   ]
  },
  {
   "cell_type": "markdown",
   "id": "d05078bd-7638-474d-b0e1-34d379589ea7",
   "metadata": {
    "tags": []
   },
   "source": [
    "### Segunda etapa"
   ]
  },
  {
   "cell_type": "code",
   "execution_count": 8,
   "id": "b726dfde-c0c9-42b9-bd43-7f69dfc8a459",
   "metadata": {
    "tags": []
   },
   "outputs": [
    {
     "name": "stdout",
     "output_type": "stream",
     "text": [
      "=========Random Tree==========\n",
      "=====Logistic Regression======\n",
      "====Support Vector Machine====\n"
     ]
    }
   ],
   "source": [
    "#Criando a lista de modelos\n",
    "lista_modelos = { \n",
    "    'Random Forest':RandomForestClassifier(),\n",
    "    'Logistic Regression':LogisticRegression(),\n",
    "    'Support Vector Machine':SVC()\n",
    "}\n",
    "\n",
    "#Fazendo a lista de métricas \n",
    "metricas = ['accuracy', 'f1']\n",
    "\n",
    "#Criando um dataframe para guardar os resultados das métricas\n",
    "resultados_etapa2 = pd.DataFrame(columns=['modelo', 'accuracy' ,'f1'])\n",
    "\n",
    "#Treinando os modelos usando validação crusada de 10 divisões\n",
    "for classificador in lista_modelos.keys():\n",
    "    modelo = Pipeline(steps=[\n",
    "        ('preprocessamento',pre_processador_x),\n",
    "        ('modelo',lista_modelos[classificador])\n",
    "\n",
    "    ])\n",
    "    kfold = KFold(n_splits=10, shuffle=True, random_state=42)\n",
    "    results = cross_validate(modelo, \n",
    "                             X = base.drop(columns=['StudentAbsenceDays']),\n",
    "                             y = base['StudentAbsenceDays'],\n",
    "                             cv = kfold,\n",
    "                            scoring = metricas\n",
    "                            )\n",
    "    lista_resultados = [str(classificador),\n",
    "              results['test_accuracy'].mean(),\n",
    "              results['test_f1'].mean()]\n",
    "    resultados_etapa2.loc[len(resultados_etapa2)] = lista_resultados\n",
    "    \n",
    "    print(str(classificador).center(30,'='))"
   ]
  },
  {
   "cell_type": "code",
   "execution_count": 9,
   "id": "0fba72ac-0c85-4669-9f0b-1543dc09fa83",
   "metadata": {},
   "outputs": [
    {
     "data": {
      "text/html": [
       "<div>\n",
       "<style scoped>\n",
       "    .dataframe tbody tr th:only-of-type {\n",
       "        vertical-align: middle;\n",
       "    }\n",
       "\n",
       "    .dataframe tbody tr th {\n",
       "        vertical-align: top;\n",
       "    }\n",
       "\n",
       "    .dataframe thead th {\n",
       "        text-align: right;\n",
       "    }\n",
       "</style>\n",
       "<table border=\"1\" class=\"dataframe\">\n",
       "  <thead>\n",
       "    <tr style=\"text-align: right;\">\n",
       "      <th></th>\n",
       "      <th>modelo</th>\n",
       "      <th>accuracy</th>\n",
       "      <th>f1</th>\n",
       "    </tr>\n",
       "  </thead>\n",
       "  <tbody>\n",
       "    <tr>\n",
       "      <th>0</th>\n",
       "      <td>Random Tree</td>\n",
       "      <td>0.868750</td>\n",
       "      <td>0.818201</td>\n",
       "    </tr>\n",
       "    <tr>\n",
       "      <th>1</th>\n",
       "      <td>Logistic Regression</td>\n",
       "      <td>0.802083</td>\n",
       "      <td>0.745183</td>\n",
       "    </tr>\n",
       "    <tr>\n",
       "      <th>2</th>\n",
       "      <td>Support Vector Machine</td>\n",
       "      <td>0.822917</td>\n",
       "      <td>0.750576</td>\n",
       "    </tr>\n",
       "  </tbody>\n",
       "</table>\n",
       "</div>"
      ],
      "text/plain": [
       "                   modelo  accuracy        f1\n",
       "0             Random Tree  0.868750  0.818201\n",
       "1     Logistic Regression  0.802083  0.745183\n",
       "2  Support Vector Machine  0.822917  0.750576"
      ]
     },
     "execution_count": 9,
     "metadata": {},
     "output_type": "execute_result"
    }
   ],
   "source": [
    "resultados_etapa2"
   ]
  },
  {
   "cell_type": "code",
   "execution_count": 10,
   "id": "ff26c036-f335-4a47-ae82-49ff8f493c6d",
   "metadata": {},
   "outputs": [
    {
     "data": {
      "text/plain": [
       "[Text(0, 0, '0.8021'), Text(0, 0, '0.8229'), Text(0, 0, '0.8688')]"
      ]
     },
     "execution_count": 10,
     "metadata": {},
     "output_type": "execute_result"
    },
    {
     "data": {
      "image/png": "[encoded data removed]",
      "text/plain": [
       "<Figure size 432x288 with 1 Axes>"
      ]
     },
     "metadata": {
      "needs_background": "light"
     },
     "output_type": "display_data"
    }
   ],
   "source": [
    "#Criando uma visualização\n",
    "ax = sns.barplot(data=resultados_etapa2.sort_values('accuracy'),\n",
    "            y='modelo',\n",
    "            x='accuracy')\n",
    "\n",
    "ax.bar_label(\n",
    "    ax.containers[0],\n",
    "    fmt='%.4f',\n",
    "    label_type='center',\n",
    "    color='white'\n",
    "\n",
    ")"
   ]
  },
  {
   "cell_type": "markdown",
   "id": "cf626dff-bbc9-4747-ad1f-65a70309c615",
   "metadata": {
    "tags": []
   },
   "source": [
    "### Terceira etapa"
   ]
  },
  {
   "cell_type": "code",
   "execution_count": 11,
   "id": "afc9dbbe-c9b7-4f86-935d-5d6809303115",
   "metadata": {},
   "outputs": [],
   "source": [
    "#aqui vou criar a um dicionário com os paraemtros a semrem testados pelos modelos\n",
    "\n",
    "lista_parametros = {\n",
    "    'Random Forest':{\n",
    "                   'modelo__n_estimators': range(2,20,5),\n",
    "                   'modelo__max_features': ['sqrt', 'log2', None],\n",
    "                   'modelo__max_depth': range(2,20,5),\n",
    "                   'modelo__bootstrap': [True,False]\n",
    "                  },\n",
    "    'Logistic Regression':{\n",
    "                            'modelo__solver':[ 'newton-cg', 'sag', 'saga'],\n",
    "                            'modelo__C':[1.0, 0.1, 0.01],\n",
    "                            'modelo__max_iter':[1000]\n",
    "                          },\n",
    "    'Support Vector Machine':{'modelo__C': [0.1, 1, 10, 100,], \n",
    "                              'modelo__gamma': [1, 0.1, 0.01,],\n",
    "                              'modelo__kernel': ['linear', 'poly']\n",
    "                             }\n",
    "}"
   ]
  },
  {
   "cell_type": "code",
   "execution_count": 12,
   "id": "2a7c0c3a-0a68-42e8-999b-5bb301169e81",
   "metadata": {},
   "outputs": [
    {
     "name": "stdout",
     "output_type": "stream",
     "text": [
      "=========Random Tree==========\n",
      "=====Logistic Regression======\n",
      "====Support Vector Machine====\n"
     ]
    }
   ],
   "source": [
    "#Criando a lista de modelos\n",
    "lista_modelos = { \n",
    "    'Random Forest':RandomForestClassifier(),\n",
    "    'Logistic Regression':LogisticRegression(),\n",
    "    'Support Vector Machine':SVC()\n",
    "}\n",
    "\n",
    "#Fazendo a lista de métricas \n",
    "metricas = ['accuracy', 'f1']\n",
    "\n",
    "#Criando um dataframe para guardar os resultados das métricas\n",
    "resultados_etapa3 = pd.DataFrame(columns=['modelo', 'parametros' ,'accuracy'])\n",
    "\n",
    "#Treinando os modelos usando validação crusada de 10 divisões\n",
    "for classificador in lista_modelos.keys():\n",
    "    modelo = Pipeline(steps=[\n",
    "        ('preprocessamento',pre_processador_x),\n",
    "        ('modelo',lista_modelos[classificador])\n",
    "\n",
    "    ])\n",
    "    kfold = KFold(n_splits=10, shuffle=True, random_state=42)\n",
    "    results = GridSearchCV(estimator = modelo, \n",
    "                             param_grid = lista_parametros[classificador],\n",
    "                             cv = kfold,\n",
    "                             scoring = metricas,\n",
    "                             refit = 'accuracy'\n",
    "                            )\n",
    "    results.fit(X = base.drop(columns=['StudentAbsenceDays']),\n",
    "                y = base['StudentAbsenceDays'])\n",
    "\n",
    "    \n",
    "    \n",
    "    lista_resultados = [str(classificador),\n",
    "                        results.best_params_,\n",
    "                        results.best_score_]\n",
    "    resultados_etapa3.loc[len(resultados_etapa3)] = lista_resultados\n",
    "    \n",
    "    print(str(classificador).center(30,'='))"
   ]
  },
  {
   "cell_type": "code",
   "execution_count": 13,
   "id": "fc099fe7-ec48-4aff-a16e-463dda2627d7",
   "metadata": {},
   "outputs": [
    {
     "data": {
      "text/html": [
       "<div>\n",
       "<style scoped>\n",
       "    .dataframe tbody tr th:only-of-type {\n",
       "        vertical-align: middle;\n",
       "    }\n",
       "\n",
       "    .dataframe tbody tr th {\n",
       "        vertical-align: top;\n",
       "    }\n",
       "\n",
       "    .dataframe thead th {\n",
       "        text-align: right;\n",
       "    }\n",
       "</style>\n",
       "<table border=\"1\" class=\"dataframe\">\n",
       "  <thead>\n",
       "    <tr style=\"text-align: right;\">\n",
       "      <th></th>\n",
       "      <th>modelo</th>\n",
       "      <th>parametros</th>\n",
       "      <th>accuracy</th>\n",
       "    </tr>\n",
       "  </thead>\n",
       "  <tbody>\n",
       "    <tr>\n",
       "      <th>0</th>\n",
       "      <td>Random Tree</td>\n",
       "      <td>{'modelo__bootstrap': False, 'modelo__max_dept...</td>\n",
       "      <td>0.872917</td>\n",
       "    </tr>\n",
       "    <tr>\n",
       "      <th>1</th>\n",
       "      <td>Logistic Regression</td>\n",
       "      <td>{'modelo__C': 0.1, 'modelo__max_iter': 1000, '...</td>\n",
       "      <td>0.820833</td>\n",
       "    </tr>\n",
       "    <tr>\n",
       "      <th>2</th>\n",
       "      <td>Support Vector Machine</td>\n",
       "      <td>{'modelo__C': 0.1, 'modelo__gamma': 0.1, 'mode...</td>\n",
       "      <td>0.841667</td>\n",
       "    </tr>\n",
       "  </tbody>\n",
       "</table>\n",
       "</div>"
      ],
      "text/plain": [
       "                   modelo                                         parametros  \\\n",
       "0             Random Tree  {'modelo__bootstrap': False, 'modelo__max_dept...   \n",
       "1     Logistic Regression  {'modelo__C': 0.1, 'modelo__max_iter': 1000, '...   \n",
       "2  Support Vector Machine  {'modelo__C': 0.1, 'modelo__gamma': 0.1, 'mode...   \n",
       "\n",
       "   accuracy  \n",
       "0  0.872917  \n",
       "1  0.820833  \n",
       "2  0.841667  "
      ]
     },
     "execution_count": 13,
     "metadata": {},
     "output_type": "execute_result"
    }
   ],
   "source": [
    "resultados_etapa3"
   ]
  },
  {
   "cell_type": "code",
   "execution_count": 14,
   "id": "224a3a0e-ba32-46c6-b500-417d01209488",
   "metadata": {},
   "outputs": [
    {
     "data": {
      "text/plain": [
       "[Text(0, 0, '0.8208'), Text(0, 0, '0.8417'), Text(0, 0, '0.8729')]"
      ]
     },
     "execution_count": 14,
     "metadata": {},
     "output_type": "execute_result"
    },
    {
     "data": {
      "image/png": "[encoded data removed]",
      "text/plain": [
       "<Figure size 432x288 with 1 Axes>"
      ]
     },
     "metadata": {
      "needs_background": "light"
     },
     "output_type": "display_data"
    }
   ],
   "source": [
    "#Criando uma visualização\n",
    "ax = sns.barplot(data=resultados_etapa3.sort_values('accuracy'),\n",
    "            y='modelo',\n",
    "            x='accuracy')\n",
    "\n",
    "ax.bar_label(\n",
    "    ax.containers[0],\n",
    "    fmt='%.4f',\n",
    "    label_type='center',\n",
    "    color='white'\n",
    "\n",
    ")"
   ]
  },
  {
   "cell_type": "markdown",
   "id": "85b7a2f2-7703-46c3-8484-5222a5729d9e",
   "metadata": {
    "tags": []
   },
   "source": [
    "## 2.3 Resultados e discussão"
   ]
  },
  {
   "cell_type": "markdown",
   "id": "222e1fe7-f86a-45a0-b525-57119f38213d",
   "metadata": {},
   "source": [
    "Os modelos criados nas etapas 2 e 3 são melhores que o modelo base, contudo o não há grandes diferenças entre os modelos da segunda etapa e suas versões com hiper parâmetros diferentes da terceira etapa. Dito isso, pode-se escolher o modelo com maior acurácia da etapa 2 ou 3. Nesse caso irei selecionar o modelo Random Forest da etapa 2 como o melhor modelo."
   ]
  }
 ],
 "metadata": {
  "kernelspec": {
   "display_name": "Python 3 (ipykernel)",
   "language": "python",
   "name": "python3"
  },
  "language_info": {
   "codemirror_mode": {
    "name": "ipython",
    "version": 3
   },
   "file_extension": ".py",
   "mimetype": "text/x-python",
   "name": "python",
   "nbconvert_exporter": "python",
   "pygments_lexer": "ipython3",
   "version": "3.8.10"
  }
 },
 "nbformat": 4,
 "nbformat_minor": 5
}
