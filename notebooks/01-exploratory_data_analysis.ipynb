{
 "cells": [
  {
   "cell_type": "markdown",
   "id": "a052a92e-66d4-4e3d-afb2-6d614b6b917f",
   "metadata": {},
   "source": [
    "# Análise Exploratória de Dados - Evasão Escolar"
   ]
  },
  {
   "cell_type": "markdown",
   "id": "e1af6f74-3331-4ba2-845e-f64c14e3969e",
   "metadata": {
    "tags": []
   },
   "source": [
    "## 1 Preparação do Ambiente"
   ]
  },
  {
   "cell_type": "markdown",
   "id": "0c47a069-d65a-481b-9538-9edc3a3e9108",
   "metadata": {},
   "source": [
    "### 1.1 Importação de Bibliotecas"
   ]
  },
  {
   "cell_type": "code",
   "execution_count": 1,
   "id": "7d076012-d4a7-43ed-ba1b-861dd6a6fac7",
   "metadata": {},
   "outputs": [],
   "source": [
    "import pandas as pd\n",
    "import numpy as np\n",
    "import seaborn as sns\n",
    "import matplotlib.pyplot as plt\n",
    "import plotly.express as px\n",
    "from IPython.display import display, HTML"
   ]
  },
  {
   "cell_type": "markdown",
   "id": "88a5666b-1115-4600-b20f-617ca980c9e1",
   "metadata": {
    "tags": []
   },
   "source": [
    "### 1.2 Importação da Base de Dados"
   ]
  },
  {
   "cell_type": "code",
   "execution_count": 2,
   "id": "9aaaad7d-8e3d-4dec-903d-38d3f18d6ffc",
   "metadata": {},
   "outputs": [],
   "source": [
    "base = pd.read_csv('../data/raw/xAPI-Edu-Data.csv')"
   ]
  },
  {
   "cell_type": "markdown",
   "id": "e4827a13-b44f-471e-9bd3-40f8aad7f8f7",
   "metadata": {
    "tags": []
   },
   "source": [
    "## 2 Descrição dos Dados"
   ]
  },
  {
   "cell_type": "markdown",
   "id": "94ea5e89-2be1-44b7-a2c3-5b5732d775e6",
   "metadata": {
    "tags": []
   },
   "source": [
    "### 2.1 Dicionário de Dados"
   ]
  },
  {
   "cell_type": "code",
   "execution_count": 3,
   "id": "052feca7",
   "metadata": {},
   "outputs": [],
   "source": [
    "dicionario = pd.read_csv('../data/external/dicionario.csv')"
   ]
  },
  {
   "cell_type": "code",
   "execution_count": 4,
   "id": "b6460514-0ffc-472c-8889-4e96c1a999a5",
   "metadata": {
    "collapsed": true,
    "jupyter": {
     "outputs_hidden": true,
     "source_hidden": true
    }
   },
   "outputs": [
    {
     "data": {
      "text/html": [
       "<div>\n",
       "<style scoped>\n",
       "    .dataframe tbody tr th:only-of-type {\n",
       "        vertical-align: middle;\n",
       "    }\n",
       "\n",
       "    .dataframe tbody tr th {\n",
       "        vertical-align: top;\n",
       "    }\n",
       "\n",
       "    .dataframe thead th {\n",
       "        text-align: right;\n",
       "    }\n",
       "</style>\n",
       "<table border=\"1\" class=\"dataframe\">\n",
       "  <thead>\n",
       "    <tr style=\"text-align: right;\">\n",
       "      <th></th>\n",
       "      <th>Variavel</th>\n",
       "      <th>Significado</th>\n",
       "      <th>Tipo</th>\n",
       "      <th>Subtipo</th>\n",
       "    </tr>\n",
       "  </thead>\n",
       "  <tbody>\n",
       "    <tr>\n",
       "      <th>0</th>\n",
       "      <td>gender</td>\n",
       "      <td>Indica o gênero da pessoa (M:Masculino,F:Femin...</td>\n",
       "      <td>Qualitativa</td>\n",
       "      <td>Nominal</td>\n",
       "    </tr>\n",
       "    <tr>\n",
       "      <th>1</th>\n",
       "      <td>NationalITy</td>\n",
       "      <td>Indica a nacionalidade do estudante</td>\n",
       "      <td>Qualitativa</td>\n",
       "      <td>Nominal</td>\n",
       "    </tr>\n",
       "    <tr>\n",
       "      <th>2</th>\n",
       "      <td>PlaceofBirth</td>\n",
       "      <td>Local de nascimento do estudante</td>\n",
       "      <td>Qualitativa</td>\n",
       "      <td>Nominal</td>\n",
       "    </tr>\n",
       "    <tr>\n",
       "      <th>3</th>\n",
       "      <td>StageID</td>\n",
       "      <td>Segmento educacional do aluno</td>\n",
       "      <td>Qualitativa</td>\n",
       "      <td>Nominal</td>\n",
       "    </tr>\n",
       "    <tr>\n",
       "      <th>4</th>\n",
       "      <td>GradeID</td>\n",
       "      <td>Série que o aluno está</td>\n",
       "      <td>Qualitativa</td>\n",
       "      <td>Ordinal</td>\n",
       "    </tr>\n",
       "    <tr>\n",
       "      <th>5</th>\n",
       "      <td>SectionID</td>\n",
       "      <td>Classe em que o aluno está</td>\n",
       "      <td>Qualitativa</td>\n",
       "      <td>Nominal</td>\n",
       "    </tr>\n",
       "    <tr>\n",
       "      <th>6</th>\n",
       "      <td>Topic</td>\n",
       "      <td>Disciplina</td>\n",
       "      <td>Qualitativa</td>\n",
       "      <td>Nominal</td>\n",
       "    </tr>\n",
       "    <tr>\n",
       "      <th>7</th>\n",
       "      <td>Semester</td>\n",
       "      <td>Semestre em que o aluno está</td>\n",
       "      <td>Qualitativa</td>\n",
       "      <td>Ordinal</td>\n",
       "    </tr>\n",
       "    <tr>\n",
       "      <th>8</th>\n",
       "      <td>Relation</td>\n",
       "      <td>Parente responsavel pelo o estudante</td>\n",
       "      <td>Qualitativa</td>\n",
       "      <td>Nominal</td>\n",
       "    </tr>\n",
       "    <tr>\n",
       "      <th>9</th>\n",
       "      <td>raisedhands</td>\n",
       "      <td>Quantas vezes o aluno levantou a mão na aula</td>\n",
       "      <td>Quantitativa</td>\n",
       "      <td>Discreta</td>\n",
       "    </tr>\n",
       "    <tr>\n",
       "      <th>10</th>\n",
       "      <td>VisITedResources</td>\n",
       "      <td>Quantas vezes o aluno visitou o conteudo do curso</td>\n",
       "      <td>Quantitativa</td>\n",
       "      <td>Discreta</td>\n",
       "    </tr>\n",
       "    <tr>\n",
       "      <th>11</th>\n",
       "      <td>AnnouncementsView</td>\n",
       "      <td>Quantas vezes o aluno olhar os anúncios novos</td>\n",
       "      <td>Quantitativa</td>\n",
       "      <td>Discreta</td>\n",
       "    </tr>\n",
       "    <tr>\n",
       "      <th>12</th>\n",
       "      <td>Discussion</td>\n",
       "      <td>Quantas vezes o aluno participou de um grupo d...</td>\n",
       "      <td>Quantitativa</td>\n",
       "      <td>Discreta</td>\n",
       "    </tr>\n",
       "    <tr>\n",
       "      <th>13</th>\n",
       "      <td>ParentAnsweringSurvey</td>\n",
       "      <td>Indica se os pais responderam a pesquisa</td>\n",
       "      <td>Qualitativa</td>\n",
       "      <td>Nominal</td>\n",
       "    </tr>\n",
       "    <tr>\n",
       "      <th>14</th>\n",
       "      <td>ParentschoolSatisfaction</td>\n",
       "      <td>Satisfação dos pais com a escola</td>\n",
       "      <td>Qualitativa</td>\n",
       "      <td>Nominal</td>\n",
       "    </tr>\n",
       "    <tr>\n",
       "      <th>15</th>\n",
       "      <td>StudentAbsenceDays</td>\n",
       "      <td>Indica quantidade de dias de que o aluno faltou</td>\n",
       "      <td>Qualitativa</td>\n",
       "      <td>Nominal</td>\n",
       "    </tr>\n",
       "    <tr>\n",
       "      <th>16</th>\n",
       "      <td>Class</td>\n",
       "      <td>Indica uma intervalo de notas</td>\n",
       "      <td>Qualitativa</td>\n",
       "      <td>Nominal</td>\n",
       "    </tr>\n",
       "  </tbody>\n",
       "</table>\n",
       "</div>"
      ],
      "text/plain": [
       "                    Variavel  \\\n",
       "0                     gender   \n",
       "1                NationalITy   \n",
       "2               PlaceofBirth   \n",
       "3                    StageID   \n",
       "4                    GradeID   \n",
       "5                  SectionID   \n",
       "6                      Topic   \n",
       "7                   Semester   \n",
       "8                   Relation   \n",
       "9                raisedhands   \n",
       "10          VisITedResources   \n",
       "11         AnnouncementsView   \n",
       "12                Discussion   \n",
       "13     ParentAnsweringSurvey   \n",
       "14  ParentschoolSatisfaction   \n",
       "15        StudentAbsenceDays   \n",
       "16                     Class   \n",
       "\n",
       "                                          Significado          Tipo   Subtipo  \n",
       "0   Indica o gênero da pessoa (M:Masculino,F:Femin...   Qualitativa   Nominal  \n",
       "1                 Indica a nacionalidade do estudante   Qualitativa   Nominal  \n",
       "2                    Local de nascimento do estudante   Qualitativa   Nominal  \n",
       "3                       Segmento educacional do aluno   Qualitativa   Nominal  \n",
       "4                              Série que o aluno está   Qualitativa   Ordinal  \n",
       "5                          Classe em que o aluno está   Qualitativa   Nominal  \n",
       "6                                          Disciplina   Qualitativa   Nominal  \n",
       "7                        Semestre em que o aluno está   Qualitativa   Ordinal  \n",
       "8                Parente responsavel pelo o estudante   Qualitativa   Nominal  \n",
       "9        Quantas vezes o aluno levantou a mão na aula  Quantitativa  Discreta  \n",
       "10  Quantas vezes o aluno visitou o conteudo do curso  Quantitativa  Discreta  \n",
       "11      Quantas vezes o aluno olhar os anúncios novos  Quantitativa  Discreta  \n",
       "12  Quantas vezes o aluno participou de um grupo d...  Quantitativa  Discreta  \n",
       "13           Indica se os pais responderam a pesquisa   Qualitativa   Nominal  \n",
       "14                   Satisfação dos pais com a escola   Qualitativa   Nominal  \n",
       "15    Indica quantidade de dias de que o aluno faltou   Qualitativa   Nominal  \n",
       "16                      Indica uma intervalo de notas   Qualitativa   Nominal  "
      ]
     },
     "execution_count": 4,
     "metadata": {},
     "output_type": "execute_result"
    }
   ],
   "source": [
    "dicionario"
   ]
  },
  {
   "cell_type": "markdown",
   "id": "53ed863e-d18a-4dd3-b159-a8640eb17e95",
   "metadata": {},
   "source": [
    "### 2.2 Base de Dados"
   ]
  },
  {
   "cell_type": "code",
   "execution_count": 5,
   "id": "9d74e1d6-2c21-4d30-8187-29d6a85c6cc9",
   "metadata": {
    "collapsed": true,
    "jupyter": {
     "outputs_hidden": true,
     "source_hidden": true
    }
   },
   "outputs": [
    {
     "data": {
      "text/html": [
       "<div>\n",
       "<style scoped>\n",
       "    .dataframe tbody tr th:only-of-type {\n",
       "        vertical-align: middle;\n",
       "    }\n",
       "\n",
       "    .dataframe tbody tr th {\n",
       "        vertical-align: top;\n",
       "    }\n",
       "\n",
       "    .dataframe thead th {\n",
       "        text-align: right;\n",
       "    }\n",
       "</style>\n",
       "<table border=\"1\" class=\"dataframe\">\n",
       "  <thead>\n",
       "    <tr style=\"text-align: right;\">\n",
       "      <th></th>\n",
       "      <th>gender</th>\n",
       "      <th>NationalITy</th>\n",
       "      <th>PlaceofBirth</th>\n",
       "      <th>StageID</th>\n",
       "      <th>GradeID</th>\n",
       "      <th>SectionID</th>\n",
       "      <th>Topic</th>\n",
       "      <th>Semester</th>\n",
       "      <th>Relation</th>\n",
       "      <th>raisedhands</th>\n",
       "      <th>VisITedResources</th>\n",
       "      <th>AnnouncementsView</th>\n",
       "      <th>Discussion</th>\n",
       "      <th>ParentAnsweringSurvey</th>\n",
       "      <th>ParentschoolSatisfaction</th>\n",
       "      <th>StudentAbsenceDays</th>\n",
       "      <th>Class</th>\n",
       "    </tr>\n",
       "  </thead>\n",
       "  <tbody>\n",
       "    <tr>\n",
       "      <th>0</th>\n",
       "      <td>M</td>\n",
       "      <td>KW</td>\n",
       "      <td>KuwaIT</td>\n",
       "      <td>lowerlevel</td>\n",
       "      <td>G-04</td>\n",
       "      <td>A</td>\n",
       "      <td>IT</td>\n",
       "      <td>F</td>\n",
       "      <td>Father</td>\n",
       "      <td>15</td>\n",
       "      <td>16</td>\n",
       "      <td>2</td>\n",
       "      <td>20</td>\n",
       "      <td>Yes</td>\n",
       "      <td>Good</td>\n",
       "      <td>Under-7</td>\n",
       "      <td>M</td>\n",
       "    </tr>\n",
       "    <tr>\n",
       "      <th>1</th>\n",
       "      <td>M</td>\n",
       "      <td>KW</td>\n",
       "      <td>KuwaIT</td>\n",
       "      <td>lowerlevel</td>\n",
       "      <td>G-04</td>\n",
       "      <td>A</td>\n",
       "      <td>IT</td>\n",
       "      <td>F</td>\n",
       "      <td>Father</td>\n",
       "      <td>20</td>\n",
       "      <td>20</td>\n",
       "      <td>3</td>\n",
       "      <td>25</td>\n",
       "      <td>Yes</td>\n",
       "      <td>Good</td>\n",
       "      <td>Under-7</td>\n",
       "      <td>M</td>\n",
       "    </tr>\n",
       "    <tr>\n",
       "      <th>2</th>\n",
       "      <td>M</td>\n",
       "      <td>KW</td>\n",
       "      <td>KuwaIT</td>\n",
       "      <td>lowerlevel</td>\n",
       "      <td>G-04</td>\n",
       "      <td>A</td>\n",
       "      <td>IT</td>\n",
       "      <td>F</td>\n",
       "      <td>Father</td>\n",
       "      <td>10</td>\n",
       "      <td>7</td>\n",
       "      <td>0</td>\n",
       "      <td>30</td>\n",
       "      <td>No</td>\n",
       "      <td>Bad</td>\n",
       "      <td>Above-7</td>\n",
       "      <td>L</td>\n",
       "    </tr>\n",
       "    <tr>\n",
       "      <th>3</th>\n",
       "      <td>M</td>\n",
       "      <td>KW</td>\n",
       "      <td>KuwaIT</td>\n",
       "      <td>lowerlevel</td>\n",
       "      <td>G-04</td>\n",
       "      <td>A</td>\n",
       "      <td>IT</td>\n",
       "      <td>F</td>\n",
       "      <td>Father</td>\n",
       "      <td>30</td>\n",
       "      <td>25</td>\n",
       "      <td>5</td>\n",
       "      <td>35</td>\n",
       "      <td>No</td>\n",
       "      <td>Bad</td>\n",
       "      <td>Above-7</td>\n",
       "      <td>L</td>\n",
       "    </tr>\n",
       "    <tr>\n",
       "      <th>4</th>\n",
       "      <td>M</td>\n",
       "      <td>KW</td>\n",
       "      <td>KuwaIT</td>\n",
       "      <td>lowerlevel</td>\n",
       "      <td>G-04</td>\n",
       "      <td>A</td>\n",
       "      <td>IT</td>\n",
       "      <td>F</td>\n",
       "      <td>Father</td>\n",
       "      <td>40</td>\n",
       "      <td>50</td>\n",
       "      <td>12</td>\n",
       "      <td>50</td>\n",
       "      <td>No</td>\n",
       "      <td>Bad</td>\n",
       "      <td>Above-7</td>\n",
       "      <td>M</td>\n",
       "    </tr>\n",
       "    <tr>\n",
       "      <th>...</th>\n",
       "      <td>...</td>\n",
       "      <td>...</td>\n",
       "      <td>...</td>\n",
       "      <td>...</td>\n",
       "      <td>...</td>\n",
       "      <td>...</td>\n",
       "      <td>...</td>\n",
       "      <td>...</td>\n",
       "      <td>...</td>\n",
       "      <td>...</td>\n",
       "      <td>...</td>\n",
       "      <td>...</td>\n",
       "      <td>...</td>\n",
       "      <td>...</td>\n",
       "      <td>...</td>\n",
       "      <td>...</td>\n",
       "      <td>...</td>\n",
       "    </tr>\n",
       "    <tr>\n",
       "      <th>475</th>\n",
       "      <td>F</td>\n",
       "      <td>Jordan</td>\n",
       "      <td>Jordan</td>\n",
       "      <td>MiddleSchool</td>\n",
       "      <td>G-08</td>\n",
       "      <td>A</td>\n",
       "      <td>Chemistry</td>\n",
       "      <td>S</td>\n",
       "      <td>Father</td>\n",
       "      <td>5</td>\n",
       "      <td>4</td>\n",
       "      <td>5</td>\n",
       "      <td>8</td>\n",
       "      <td>No</td>\n",
       "      <td>Bad</td>\n",
       "      <td>Above-7</td>\n",
       "      <td>L</td>\n",
       "    </tr>\n",
       "    <tr>\n",
       "      <th>476</th>\n",
       "      <td>F</td>\n",
       "      <td>Jordan</td>\n",
       "      <td>Jordan</td>\n",
       "      <td>MiddleSchool</td>\n",
       "      <td>G-08</td>\n",
       "      <td>A</td>\n",
       "      <td>Geology</td>\n",
       "      <td>F</td>\n",
       "      <td>Father</td>\n",
       "      <td>50</td>\n",
       "      <td>77</td>\n",
       "      <td>14</td>\n",
       "      <td>28</td>\n",
       "      <td>No</td>\n",
       "      <td>Bad</td>\n",
       "      <td>Under-7</td>\n",
       "      <td>M</td>\n",
       "    </tr>\n",
       "    <tr>\n",
       "      <th>477</th>\n",
       "      <td>F</td>\n",
       "      <td>Jordan</td>\n",
       "      <td>Jordan</td>\n",
       "      <td>MiddleSchool</td>\n",
       "      <td>G-08</td>\n",
       "      <td>A</td>\n",
       "      <td>Geology</td>\n",
       "      <td>S</td>\n",
       "      <td>Father</td>\n",
       "      <td>55</td>\n",
       "      <td>74</td>\n",
       "      <td>25</td>\n",
       "      <td>29</td>\n",
       "      <td>No</td>\n",
       "      <td>Bad</td>\n",
       "      <td>Under-7</td>\n",
       "      <td>M</td>\n",
       "    </tr>\n",
       "    <tr>\n",
       "      <th>478</th>\n",
       "      <td>F</td>\n",
       "      <td>Jordan</td>\n",
       "      <td>Jordan</td>\n",
       "      <td>MiddleSchool</td>\n",
       "      <td>G-08</td>\n",
       "      <td>A</td>\n",
       "      <td>History</td>\n",
       "      <td>F</td>\n",
       "      <td>Father</td>\n",
       "      <td>30</td>\n",
       "      <td>17</td>\n",
       "      <td>14</td>\n",
       "      <td>57</td>\n",
       "      <td>No</td>\n",
       "      <td>Bad</td>\n",
       "      <td>Above-7</td>\n",
       "      <td>L</td>\n",
       "    </tr>\n",
       "    <tr>\n",
       "      <th>479</th>\n",
       "      <td>F</td>\n",
       "      <td>Jordan</td>\n",
       "      <td>Jordan</td>\n",
       "      <td>MiddleSchool</td>\n",
       "      <td>G-08</td>\n",
       "      <td>A</td>\n",
       "      <td>History</td>\n",
       "      <td>S</td>\n",
       "      <td>Father</td>\n",
       "      <td>35</td>\n",
       "      <td>14</td>\n",
       "      <td>23</td>\n",
       "      <td>62</td>\n",
       "      <td>No</td>\n",
       "      <td>Bad</td>\n",
       "      <td>Above-7</td>\n",
       "      <td>L</td>\n",
       "    </tr>\n",
       "  </tbody>\n",
       "</table>\n",
       "<p>480 rows × 17 columns</p>\n",
       "</div>"
      ],
      "text/plain": [
       "    gender NationalITy PlaceofBirth       StageID GradeID SectionID  \\\n",
       "0        M          KW       KuwaIT    lowerlevel    G-04         A   \n",
       "1        M          KW       KuwaIT    lowerlevel    G-04         A   \n",
       "2        M          KW       KuwaIT    lowerlevel    G-04         A   \n",
       "3        M          KW       KuwaIT    lowerlevel    G-04         A   \n",
       "4        M          KW       KuwaIT    lowerlevel    G-04         A   \n",
       "..     ...         ...          ...           ...     ...       ...   \n",
       "475      F      Jordan       Jordan  MiddleSchool    G-08         A   \n",
       "476      F      Jordan       Jordan  MiddleSchool    G-08         A   \n",
       "477      F      Jordan       Jordan  MiddleSchool    G-08         A   \n",
       "478      F      Jordan       Jordan  MiddleSchool    G-08         A   \n",
       "479      F      Jordan       Jordan  MiddleSchool    G-08         A   \n",
       "\n",
       "         Topic Semester Relation  raisedhands  VisITedResources  \\\n",
       "0           IT        F   Father           15                16   \n",
       "1           IT        F   Father           20                20   \n",
       "2           IT        F   Father           10                 7   \n",
       "3           IT        F   Father           30                25   \n",
       "4           IT        F   Father           40                50   \n",
       "..         ...      ...      ...          ...               ...   \n",
       "475  Chemistry        S   Father            5                 4   \n",
       "476    Geology        F   Father           50                77   \n",
       "477    Geology        S   Father           55                74   \n",
       "478    History        F   Father           30                17   \n",
       "479    History        S   Father           35                14   \n",
       "\n",
       "     AnnouncementsView  Discussion ParentAnsweringSurvey  \\\n",
       "0                    2          20                   Yes   \n",
       "1                    3          25                   Yes   \n",
       "2                    0          30                    No   \n",
       "3                    5          35                    No   \n",
       "4                   12          50                    No   \n",
       "..                 ...         ...                   ...   \n",
       "475                  5           8                    No   \n",
       "476                 14          28                    No   \n",
       "477                 25          29                    No   \n",
       "478                 14          57                    No   \n",
       "479                 23          62                    No   \n",
       "\n",
       "    ParentschoolSatisfaction StudentAbsenceDays Class  \n",
       "0                       Good            Under-7     M  \n",
       "1                       Good            Under-7     M  \n",
       "2                        Bad            Above-7     L  \n",
       "3                        Bad            Above-7     L  \n",
       "4                        Bad            Above-7     M  \n",
       "..                       ...                ...   ...  \n",
       "475                      Bad            Above-7     L  \n",
       "476                      Bad            Under-7     M  \n",
       "477                      Bad            Under-7     M  \n",
       "478                      Bad            Above-7     L  \n",
       "479                      Bad            Above-7     L  \n",
       "\n",
       "[480 rows x 17 columns]"
      ]
     },
     "execution_count": 5,
     "metadata": {},
     "output_type": "execute_result"
    }
   ],
   "source": [
    "base"
   ]
  },
  {
   "cell_type": "code",
   "execution_count": 6,
   "id": "371b46c4-b9be-47b2-9d79-7f060e5c5619",
   "metadata": {
    "collapsed": true,
    "jupyter": {
     "outputs_hidden": true,
     "source_hidden": true
    },
    "scrolled": true
   },
   "outputs": [
    {
     "name": "stdout",
     "output_type": "stream",
     "text": [
      "<class 'pandas.core.frame.DataFrame'>\n",
      "RangeIndex: 480 entries, 0 to 479\n",
      "Data columns (total 17 columns):\n",
      " #   Column                    Non-Null Count  Dtype \n",
      "---  ------                    --------------  ----- \n",
      " 0   gender                    480 non-null    object\n",
      " 1   NationalITy               480 non-null    object\n",
      " 2   PlaceofBirth              480 non-null    object\n",
      " 3   StageID                   480 non-null    object\n",
      " 4   GradeID                   480 non-null    object\n",
      " 5   SectionID                 480 non-null    object\n",
      " 6   Topic                     480 non-null    object\n",
      " 7   Semester                  480 non-null    object\n",
      " 8   Relation                  480 non-null    object\n",
      " 9   raisedhands               480 non-null    int64 \n",
      " 10  VisITedResources          480 non-null    int64 \n",
      " 11  AnnouncementsView         480 non-null    int64 \n",
      " 12  Discussion                480 non-null    int64 \n",
      " 13  ParentAnsweringSurvey     480 non-null    object\n",
      " 14  ParentschoolSatisfaction  480 non-null    object\n",
      " 15  StudentAbsenceDays        480 non-null    object\n",
      " 16  Class                     480 non-null    object\n",
      "dtypes: int64(4), object(13)\n",
      "memory usage: 63.9+ KB\n"
     ]
    }
   ],
   "source": [
    "base.info()"
   ]
  },
  {
   "cell_type": "markdown",
   "id": "9df418f5-f3cb-4ace-a626-2c7b7dfba034",
   "metadata": {},
   "source": [
    "### 2.3 Dados Faltantes"
   ]
  },
  {
   "cell_type": "code",
   "execution_count": 7,
   "id": "a2d909fe-33ad-4ecd-958d-7ca04e4aa44c",
   "metadata": {
    "collapsed": true,
    "jupyter": {
     "outputs_hidden": true,
     "source_hidden": true
    },
    "scrolled": true
   },
   "outputs": [
    {
     "data": {
      "text/plain": [
       "gender                      0\n",
       "NationalITy                 0\n",
       "PlaceofBirth                0\n",
       "StageID                     0\n",
       "GradeID                     0\n",
       "SectionID                   0\n",
       "Topic                       0\n",
       "Semester                    0\n",
       "Relation                    0\n",
       "raisedhands                 0\n",
       "VisITedResources            0\n",
       "AnnouncementsView           0\n",
       "Discussion                  0\n",
       "ParentAnsweringSurvey       0\n",
       "ParentschoolSatisfaction    0\n",
       "StudentAbsenceDays          0\n",
       "Class                       0\n",
       "dtype: int64"
      ]
     },
     "execution_count": 7,
     "metadata": {},
     "output_type": "execute_result"
    }
   ],
   "source": [
    "base.isnull().sum()"
   ]
  },
  {
   "cell_type": "markdown",
   "id": "26f59922-961e-49de-9a56-8b26346c4e1d",
   "metadata": {},
   "source": [
    "Não há variáveis faltantes na base de dados escolhida."
   ]
  },
  {
   "cell_type": "markdown",
   "id": "731b59e9-4904-427b-b5cd-32fb588e5cd4",
   "metadata": {},
   "source": [
    "### 2.4 Valores Únicos"
   ]
  },
  {
   "cell_type": "code",
   "execution_count": 8,
   "id": "8657187c-6c78-4b94-812b-7c5a412da5c5",
   "metadata": {
    "collapsed": true,
    "jupyter": {
     "outputs_hidden": true,
     "source_hidden": true
    },
    "scrolled": true
   },
   "outputs": [
    {
     "data": {
      "text/html": [
       "<table border=\"1\" class=\"dataframe\">\n",
       "  <thead>\n",
       "    <tr style=\"text-align: right;\">\n",
       "      <th></th>\n",
       "      <th>Variavel</th>\n",
       "      <th>Valores</th>\n",
       "    </tr>\n",
       "  </thead>\n",
       "  <tbody>\n",
       "    <tr>\n",
       "      <th>0</th>\n",
       "      <td>gender</td>\n",
       "      <td>[M, F]</td>\n",
       "    </tr>\n",
       "    <tr>\n",
       "      <th>1</th>\n",
       "      <td>NationalITy</td>\n",
       "      <td>[KW, lebanon, Egypt, SaudiArabia, USA, Jordan, venzuela, Iran, Tunis, Morocco, Syria, Palestine, Iraq, Lybia]</td>\n",
       "    </tr>\n",
       "    <tr>\n",
       "      <th>2</th>\n",
       "      <td>PlaceofBirth</td>\n",
       "      <td>[KuwaIT, lebanon, Egypt, SaudiArabia, USA, Jordan, venzuela, Iran, Tunis, Morocco, Syria, Iraq, Palestine, Lybia]</td>\n",
       "    </tr>\n",
       "    <tr>\n",
       "      <th>3</th>\n",
       "      <td>StageID</td>\n",
       "      <td>[lowerlevel, MiddleSchool, HighSchool]</td>\n",
       "    </tr>\n",
       "    <tr>\n",
       "      <th>4</th>\n",
       "      <td>GradeID</td>\n",
       "      <td>[G-04, G-07, G-08, G-06, G-05, G-09, G-12, G-11, G-10, G-02]</td>\n",
       "    </tr>\n",
       "    <tr>\n",
       "      <th>5</th>\n",
       "      <td>SectionID</td>\n",
       "      <td>[A, B, C]</td>\n",
       "    </tr>\n",
       "    <tr>\n",
       "      <th>6</th>\n",
       "      <td>Topic</td>\n",
       "      <td>[IT, Math, Arabic, Science, English, Quran, Spanish, French, History, Biology, Chemistry, Geology]</td>\n",
       "    </tr>\n",
       "    <tr>\n",
       "      <th>7</th>\n",
       "      <td>Semester</td>\n",
       "      <td>[F, S]</td>\n",
       "    </tr>\n",
       "    <tr>\n",
       "      <th>8</th>\n",
       "      <td>Relation</td>\n",
       "      <td>[Father, Mum]</td>\n",
       "    </tr>\n",
       "    <tr>\n",
       "      <th>9</th>\n",
       "      <td>raisedhands</td>\n",
       "      <td>[15, 20, 10, 30, 40, 42, 35, 50, 12, 70, 19, 5, 62, 36, 55, 69, 60, 2, 0, 8, 25, 75, 4, 45, 14, 33, 7, 13, 29, 39, 49, 16, 28, 27, 21, 80, 17, 65, 22, 11, 1, 3, 100, 6, 90, 77, 24, 66, 23, 82, 72, 51, 85, 87, 95, 81, 53, 92, 83, 67, 96, 57, 73, 9, 32, 52, 59, 61, 79, 18, 74, 97, 41, 71, 98, 78, 89, 88, 86, 76, 99, 84]</td>\n",
       "    </tr>\n",
       "    <tr>\n",
       "      <th>10</th>\n",
       "      <td>VisITedResources</td>\n",
       "      <td>[16, 20, 7, 25, 50, 30, 12, 10, 21, 80, 88, 6, 1, 14, 70, 40, 13, 15, 60, 0, 2, 19, 85, 90, 5, 22, 11, 54, 35, 33, 4, 39, 75, 69, 3, 8, 89, 44, 92, 26, 27, 29, 98, 9, 42, 65, 79, 55, 63, 91, 51, 58, 68, 82, 72, 52, 62, 71, 66, 43, 95, 31, 41, 81, 61, 83, 84, 17, 94, 48, 86, 74, 76, 97, 87, 99, 34, 64, 28, 38, 36, 24, 59, 57, 77, 18, 93, 96, 78]</td>\n",
       "    </tr>\n",
       "    <tr>\n",
       "      <th>11</th>\n",
       "      <td>AnnouncementsView</td>\n",
       "      <td>[2, 3, 0, 5, 12, 13, 15, 16, 25, 30, 19, 44, 22, 20, 35, 36, 40, 33, 4, 52, 50, 10, 9, 8, 17, 26, 37, 7, 28, 1, 39, 6, 32, 70, 18, 23, 11, 29, 49, 55, 38, 41, 51, 95, 85, 71, 98, 73, 48, 58, 93, 83, 53, 63, 62, 82, 72, 42, 46, 77, 21, 88, 66, 86, 80, 56, 91, 65, 76, 24, 74, 59, 79, 34, 69, 89, 31, 60, 54, 57, 64, 87, 75, 67, 43, 45, 14, 78]</td>\n",
       "    </tr>\n",
       "    <tr>\n",
       "      <th>12</th>\n",
       "      <td>Discussion</td>\n",
       "      <td>[20, 25, 30, 35, 50, 70, 17, 22, 80, 12, 11, 19, 60, 66, 90, 96, 99, 40, 33, 43, 16, 4, 88, 77, 75, 1, 5, 2, 8, 13, 44, 9, 55, 10, 15, 7, 3, 14, 69, 59, 89, 41, 91, 49, 73, 23, 53, 93, 51, 83, 24, 84, 61, 94, 34, 81, 29, 46, 26, 6, 76, 86, 85, 65, 95, 64, 32, 37, 36, 27, 39, 74, 79, 21, 31, 28, 38, 48, 97, 98, 63, 72, 82, 71, 45, 68, 92, 58, 57, 62]</td>\n",
       "    </tr>\n",
       "    <tr>\n",
       "      <th>13</th>\n",
       "      <td>ParentAnsweringSurvey</td>\n",
       "      <td>[Yes, No]</td>\n",
       "    </tr>\n",
       "    <tr>\n",
       "      <th>14</th>\n",
       "      <td>ParentschoolSatisfaction</td>\n",
       "      <td>[Good, Bad]</td>\n",
       "    </tr>\n",
       "    <tr>\n",
       "      <th>15</th>\n",
       "      <td>StudentAbsenceDays</td>\n",
       "      <td>[Under-7, Above-7]</td>\n",
       "    </tr>\n",
       "    <tr>\n",
       "      <th>16</th>\n",
       "      <td>Class</td>\n",
       "      <td>[M, L, H]</td>\n",
       "    </tr>\n",
       "  </tbody>\n",
       "</table>"
      ],
      "text/plain": [
       "<IPython.core.display.HTML object>"
      ]
     },
     "metadata": {},
     "output_type": "display_data"
    }
   ],
   "source": [
    "uniques = {'Variavel': dicionario['Variavel'], 'Valores': []}\n",
    "for index, row in dicionario.iterrows():\n",
    "    uniques['Valores'].append(base[row['Variavel']].unique())\n",
    "\n",
    "base_uniques = pd.DataFrame.from_dict(uniques)\n",
    "display(HTML(base_uniques.to_html()))"
   ]
  },
  {
   "cell_type": "markdown",
   "id": "aef0bc6c-8651-4c87-9d4d-fefe24555177",
   "metadata": {},
   "source": [
    "## 3 Perguntas de Partida e Hipóteses"
   ]
  },
  {
   "cell_type": "markdown",
   "id": "d16a4e68-0892-449c-a703-0c3331212d5f",
   "metadata": {},
   "source": [
    "A partir dos dados apresentados, buscamos responder as seguintes perguntas e, com isso, verificar o impacto na Evasão Escolar\n",
    "\n",
    "- O número de faltas é maior entre o público masculino?\n",
    "- Verificar a influência das respostas dos pais às pesquisas escolares com a evasão escolar;\n",
    "- O gênero do responsável influencia no número de ausências?\n",
    "- As notas podem influenciar na frequência dos estudantes?\n",
    "- Existe alguma relação entre o segmento escolar e a frequência dos alunos?\n",
    "- O país onde os estudantes vivem influencia na taxa de evasão?"
   ]
  },
  {
   "cell_type": "markdown",
   "id": "7c11c2d1-625b-413a-8c70-b66eab6dd623",
   "metadata": {},
   "source": [
    "## 4 Insights"
   ]
  },
  {
   "cell_type": "markdown",
   "id": "88a7ca02-88ff-41cf-835a-9fc0c9f15302",
   "metadata": {
    "tags": []
   },
   "source": [
    "### 4.1 Variáveis Qualitativas"
   ]
  },
  {
   "cell_type": "code",
   "execution_count": 26,
   "id": "82f2306a-ef4b-4eae-9412-c47b7724102a",
   "metadata": {
    "collapsed": true,
    "jupyter": {
     "outputs_hidden": true,
     "source_hidden": true
    },
    "scrolled": true
   },
   "outputs": [
    {
     "name": "stdout",
     "output_type": "stream",
     "text": [
      "======================gender======================\n"
     ]
    },
    {
     "data": {
      "text/plain": [
       "gender\n",
       "M    63.541667\n",
       "F    36.458333\n",
       "Name: count, dtype: float64"
      ]
     },
     "metadata": {},
     "output_type": "display_data"
    },
    {
     "name": "stdout",
     "output_type": "stream",
     "text": [
      "\n",
      "\n",
      "===================NationalITy====================\n"
     ]
    },
    {
     "data": {
      "text/plain": [
       "NationalITy\n",
       "KW             37.291667\n",
       "Jordan         35.833333\n",
       "Palestine       5.833333\n",
       "Iraq            4.583333\n",
       "lebanon         3.541667\n",
       "Tunis           2.500000\n",
       "SaudiArabia     2.291667\n",
       "Egypt           1.875000\n",
       "Syria           1.458333\n",
       "USA             1.250000\n",
       "Iran            1.250000\n",
       "Lybia           1.250000\n",
       "Morocco         0.833333\n",
       "venzuela        0.208333\n",
       "Name: count, dtype: float64"
      ]
     },
     "metadata": {},
     "output_type": "display_data"
    },
    {
     "name": "stdout",
     "output_type": "stream",
     "text": [
      "\n",
      "\n",
      "===================PlaceofBirth===================\n"
     ]
    },
    {
     "data": {
      "text/plain": [
       "PlaceofBirth\n",
       "KuwaIT         37.500000\n",
       "Jordan         36.666667\n",
       "Iraq            4.583333\n",
       "lebanon         3.958333\n",
       "SaudiArabia     3.333333\n",
       "USA             3.333333\n",
       "Palestine       2.083333\n",
       "Egypt           1.875000\n",
       "Tunis           1.875000\n",
       "Iran            1.250000\n",
       "Syria           1.250000\n",
       "Lybia           1.250000\n",
       "Morocco         0.833333\n",
       "venzuela        0.208333\n",
       "Name: count, dtype: float64"
      ]
     },
     "metadata": {},
     "output_type": "display_data"
    },
    {
     "name": "stdout",
     "output_type": "stream",
     "text": [
      "\n",
      "\n",
      "=====================StageID======================\n"
     ]
    },
    {
     "data": {
      "text/plain": [
       "StageID\n",
       "MiddleSchool    51.666667\n",
       "lowerlevel      41.458333\n",
       "HighSchool       6.875000\n",
       "Name: count, dtype: float64"
      ]
     },
     "metadata": {},
     "output_type": "display_data"
    },
    {
     "name": "stdout",
     "output_type": "stream",
     "text": [
      "\n",
      "\n",
      "=====================GradeID======================\n"
     ]
    },
    {
     "data": {
      "text/plain": [
       "GradeID\n",
       "G-02    30.625000\n",
       "G-08    24.166667\n",
       "G-07    21.041667\n",
       "G-04    10.000000\n",
       "G-06     6.666667\n",
       "G-11     2.708333\n",
       "G-12     2.291667\n",
       "G-09     1.041667\n",
       "G-10     0.833333\n",
       "G-05     0.625000\n",
       "Name: count, dtype: float64"
      ]
     },
     "metadata": {},
     "output_type": "display_data"
    },
    {
     "name": "stdout",
     "output_type": "stream",
     "text": [
      "\n",
      "\n",
      "====================SectionID=====================\n"
     ]
    },
    {
     "data": {
      "text/plain": [
       "SectionID\n",
       "A    58.958333\n",
       "B    34.791667\n",
       "C     6.250000\n",
       "Name: count, dtype: float64"
      ]
     },
     "metadata": {},
     "output_type": "display_data"
    },
    {
     "name": "stdout",
     "output_type": "stream",
     "text": [
      "\n",
      "\n",
      "======================Topic=======================\n"
     ]
    },
    {
     "data": {
      "text/plain": [
       "Topic\n",
       "IT           19.791667\n",
       "French       13.541667\n",
       "Arabic       12.291667\n",
       "Science      10.625000\n",
       "English       9.375000\n",
       "Biology       6.250000\n",
       "Spanish       5.208333\n",
       "Chemistry     5.000000\n",
       "Geology       5.000000\n",
       "Quran         4.583333\n",
       "Math          4.375000\n",
       "History       3.958333\n",
       "Name: count, dtype: float64"
      ]
     },
     "metadata": {},
     "output_type": "display_data"
    },
    {
     "name": "stdout",
     "output_type": "stream",
     "text": [
      "\n",
      "\n",
      "=====================Semester=====================\n"
     ]
    },
    {
     "data": {
      "text/plain": [
       "Semester\n",
       "F    51.041667\n",
       "S    48.958333\n",
       "Name: count, dtype: float64"
      ]
     },
     "metadata": {},
     "output_type": "display_data"
    },
    {
     "name": "stdout",
     "output_type": "stream",
     "text": [
      "\n",
      "\n",
      "=====================Relation=====================\n"
     ]
    },
    {
     "data": {
      "text/plain": [
       "Relation\n",
       "Father    58.958333\n",
       "Mum       41.041667\n",
       "Name: count, dtype: float64"
      ]
     },
     "metadata": {},
     "output_type": "display_data"
    },
    {
     "name": "stdout",
     "output_type": "stream",
     "text": [
      "\n",
      "\n",
      "==============ParentAnsweringSurvey===============\n"
     ]
    },
    {
     "data": {
      "text/plain": [
       "ParentAnsweringSurvey\n",
       "Yes    56.25\n",
       "No     43.75\n",
       "Name: count, dtype: float64"
      ]
     },
     "metadata": {},
     "output_type": "display_data"
    },
    {
     "name": "stdout",
     "output_type": "stream",
     "text": [
      "\n",
      "\n",
      "=============ParentschoolSatisfaction=============\n"
     ]
    },
    {
     "data": {
      "text/plain": [
       "ParentschoolSatisfaction\n",
       "Good    60.833333\n",
       "Bad     39.166667\n",
       "Name: count, dtype: float64"
      ]
     },
     "metadata": {},
     "output_type": "display_data"
    },
    {
     "name": "stdout",
     "output_type": "stream",
     "text": [
      "\n",
      "\n",
      "================StudentAbsenceDays================\n"
     ]
    },
    {
     "data": {
      "text/plain": [
       "StudentAbsenceDays\n",
       "Under-7    60.208333\n",
       "Above-7    39.791667\n",
       "Name: count, dtype: float64"
      ]
     },
     "metadata": {},
     "output_type": "display_data"
    },
    {
     "name": "stdout",
     "output_type": "stream",
     "text": [
      "\n",
      "\n",
      "======================Class=======================\n"
     ]
    },
    {
     "data": {
      "text/plain": [
       "Class\n",
       "M    43.958333\n",
       "H    29.583333\n",
       "L    26.458333\n",
       "Name: count, dtype: float64"
      ]
     },
     "metadata": {},
     "output_type": "display_data"
    },
    {
     "name": "stdout",
     "output_type": "stream",
     "text": [
      "\n",
      "\n"
     ]
    }
   ],
   "source": [
    "#Olhando a porcentagem de todas as variaveis qualitativas\n",
    "qualitativas = dicionario.query('Tipo == \"Qualitativa\"')['Variavel'].to_list()\n",
    "\n",
    "#Criando o for para varrer toda a lista\n",
    "\n",
    "for coluna in qualitativas:\n",
    "    print(coluna.center(50,'='))\n",
    "    display((base[coluna].value_counts()/base.shape[0])*100)\n",
    "    print('\\n')"
   ]
  },
  {
   "cell_type": "markdown",
   "id": "2afd3018-21a7-4f28-b7d4-692a637b98c0",
   "metadata": {
    "jupyter": {
     "source_hidden": true
    }
   },
   "source": [
    "**Conclusões iniciais**\n",
    "- 63% dos alunos são homens\n",
    "- Mais de 70% dos alunos tem nacionalidade no kwait e da jordania\n",
    "- Mais de 70% dos alunos tem local de nascimento no kwait e na jordania\n",
    "- Mais de 90% dos alunos estão no low level ou middle school\n",
    "- Mais de 90% estão nas salas A e B\n",
    "- Mais de 50% dos alunos estão nas disciplinas de (It,French,Arabic, Science)\n",
    "- Mais de 50% dos responsaveis são homens\n",
    "- Mais de 50% dos pais respoderam o questionario e acham a escola boa\n",
    "- 60% dos alunos tem numero de faltas abaixo de 7 dias\n",
    "- Mais de 70% dos alunos tem notas nas catégorias middle e high\n",
    "- Apenas 53 alunos cujo responsável é a mãe (Mum) tem faltas acima de 7 (Above-7), enquanto que 138 alunos tem como responsável o pai (Father)\n",
    "- O número de alunos com menos de 7 faltas (Under-7) é próximo para ambos os responsáveis (145 - pai, 144 - mãe)"
   ]
  },
  {
   "cell_type": "markdown",
   "id": "d813e000",
   "metadata": {
    "jp-MarkdownHeadingCollapsed": true
   },
   "source": [
    "#### 4.1.1 Frequência dos estudantes"
   ]
  },
  {
   "cell_type": "markdown",
   "id": "c4ed764c",
   "metadata": {},
   "source": [
    "Antes de analisarmos outras variáveis, podemos verificar a distribuição da frequencia dos estudantes a partir da variável `StudentAbsenceDays`"
   ]
  },
  {
   "cell_type": "code",
   "execution_count": 10,
   "id": "5a117d96-c38d-4689-9c18-c3c899534808",
   "metadata": {
    "collapsed": true,
    "jupyter": {
     "outputs_hidden": true,
     "source_hidden": true
    }
   },
   "outputs": [
    {
     "name": "stdout",
     "output_type": "stream",
     "text": [
      "                          \n",
      "StudentAbsenceDays        \n",
      "Above-7              (40%)\n",
      "Under-7              (60%)\n"
     ]
    }
   ],
   "source": [
    "# Filtrar apenas as linhas onde 'StudentAbsenceDays' é 'Above-7' ou 'Under-7'\n",
    "filtered_base = base[base['StudentAbsenceDays'].isin(['Above-7', 'Under-7'])]\n",
    "\n",
    "# Criar a tabela de frequência cruzada para 'StudentAbsenceDays'\n",
    "absence_ausencia = pd.crosstab(index=filtered_base['StudentAbsenceDays'], columns='Contagem')\n",
    "\n",
    "# Calcular a porcentagem de cada resultado e arredondar para zero casas decimais\n",
    "porcentagem_relacao = (absence_ausencia / absence_ausencia.sum() * 100).round(0).astype(int)\n",
    "\n",
    "# Renomear a coluna\n",
    "porcentagem_relacao.columns = [' ']\n",
    "\n",
    "# Incluindo as porcentagens em parênteses ao lado dos valores\n",
    "for col in porcentagem_relacao.columns:\n",
    "    porcentagem_relacao[col] = ' (' + porcentagem_relacao[col].astype(str) + '%)'\n",
    "\n",
    "print(porcentagem_relacao)"
   ]
  },
  {
   "cell_type": "markdown",
   "id": "109f2ee9",
   "metadata": {
    "jp-MarkdownHeadingCollapsed": true
   },
   "source": [
    "#### 4.1.2 Distribuição por gênero"
   ]
  },
  {
   "cell_type": "markdown",
   "id": "84d17c5e",
   "metadata": {},
   "source": [
    "Podemos analisar a variável `gender` para identificar se há alguma tendência de maior ausência em um gênero específico."
   ]
  },
  {
   "cell_type": "code",
   "execution_count": 11,
   "id": "760beea7-e4b1-4090-a1bf-32e026a582c9",
   "metadata": {},
   "outputs": [
    {
     "name": "stdout",
     "output_type": "stream",
     "text": [
      "StudentAbsenceDays    Above-7    Under-7\n",
      "gender                                  \n",
      "F                    46 (26%)  129 (74%)\n",
      "M                   145 (48%)  160 (52%)\n"
     ]
    }
   ],
   "source": [
    "#Criando relação entre o gênero do estudante e a evasão\n",
    "gender_ausencia = pd.crosstab(index=base['gender'], columns=base['StudentAbsenceDays'])\n",
    "\n",
    "#Calculando a porcentagem de cada resultado\n",
    "porcentagem_relacao2 = (gender_ausencia.div(gender_ausencia.sum(axis=1), axis=0) * 100).round(0).astype(int)\n",
    "\n",
    "#Incluindo as porcentagens em parênteses ao lado dos valores\n",
    "for col in porcentagem_relacao2.columns:\n",
    "    porcentagem_relacao2[col] = gender_ausencia[col].astype(str) + ' (' + porcentagem_relacao2[col].astype(str) + '%)'\n",
    "\n",
    "\n",
    "print(porcentagem_relacao2)"
   ]
  },
  {
   "cell_type": "code",
   "execution_count": 12,
   "id": "f6ba9d1b-4133-4fa3-9cad-89ed46d1235d",
   "metadata": {
    "collapsed": true,
    "jupyter": {
     "outputs_hidden": true,
     "source_hidden": true
    },
    "scrolled": true
   },
   "outputs": [
    {
     "data": {
      "image/png": "[encoded data removed]",
      "text/plain": [
       "<Figure size 640x480 with 1 Axes>"
      ]
     },
     "metadata": {},
     "output_type": "display_data"
    }
   ],
   "source": [
    "#Representando essa relação graficamente\n",
    "ax = gender_ausencia.plot(kind='bar', stacked=True)\n",
    "\n",
    "#Utilizando Linhas Verticais\n",
    "sns.set_style(\"whitegrid\")\n",
    "\n",
    "#Removendo Bordas e Adicionando Linha de Origem\n",
    "ax.set(frame_on=False)\n",
    "\n",
    "#Ajustando Título e Labels\n",
    "plt.xlabel('Gênero')\n",
    "plt.ylabel('Contagem de Faltas')\n",
    "plt.title('Ausência x Gênero')\n",
    "\n",
    "#Valores dentro das barras\n",
    "for p in ax.patches:\n",
    "    width, height = p.get_width(), p.get_height()\n",
    "    x, y = p.get_xy() \n",
    "    ax.annotate(f'{height:.0f}', (x + width/2, y + height/2), ha='center', va='center')\n",
    "\n",
    "plt.show()"
   ]
  },
  {
   "cell_type": "markdown",
   "id": "c959e87d",
   "metadata": {
    "jupyter": {
     "source_hidden": true
    }
   },
   "source": [
    "Observa-se que os estudantes do sexo masculino tendem a ter uma taxa de faltas mais elevada, visto que 48% deles apresentam uma frequência acima de 7 faltas. Em contraste, ao analisar os estudantes do sexo feminino, esse percentual cai para 26%."
   ]
  },
  {
   "cell_type": "markdown",
   "id": "2a3c9cca",
   "metadata": {
    "jp-MarkdownHeadingCollapsed": true
   },
   "source": [
    "#### 4.1.3 Distribuição por participação dos pais"
   ]
  },
  {
   "cell_type": "markdown",
   "id": "eb905ebc",
   "metadata": {},
   "source": [
    "Iniciaremos nossa análise investigando como o apoio e a participação ativa dos pais podem influenciar, por meio da correlação entre a variável `ParentAnsweringSurvey` e `StudentAbsenceDays`"
   ]
  },
  {
   "cell_type": "code",
   "execution_count": 13,
   "id": "d9924c31",
   "metadata": {
    "jupyter": {
     "source_hidden": true
    }
   },
   "outputs": [
    {
     "name": "stdout",
     "output_type": "stream",
     "text": [
      "StudentAbsenceDays       Above-7    Under-7\n",
      "ParentAnsweringSurvey                      \n",
      "No                     114 (54%)   96 (46%)\n",
      "Yes                     77 (29%)  193 (71%)\n"
     ]
    }
   ],
   "source": [
    "#Criando relação entre o responsável e a evasão\n",
    "answer_ausencia = pd.crosstab(index=base['ParentAnsweringSurvey'], columns=base['StudentAbsenceDays'])\n",
    "\n",
    "#Calculando a porcentagem de cada resultado\n",
    "porcentagem_parentAnswer = (answer_ausencia.div(answer_ausencia.sum(axis=1), axis=0) * 100).round(0).astype(int)\n",
    "\n",
    "#Incluindo as porcentagens em parênteses ao lado dos valores\n",
    "for col in porcentagem_parentAnswer.columns:\n",
    "    porcentagem_parentAnswer[col] = answer_ausencia[col].astype(str) + ' (' + porcentagem_parentAnswer[col].astype(str) + '%)'\n",
    "\n",
    "print(porcentagem_parentAnswer)"
   ]
  },
  {
   "cell_type": "code",
   "execution_count": 14,
   "id": "78a6d17b-6328-46b8-bd17-56ae1a471756",
   "metadata": {
    "collapsed": true,
    "jupyter": {
     "outputs_hidden": true,
     "source_hidden": true
    }
   },
   "outputs": [
    {
     "data": {
      "image/png": "[encoded data removed]",
      "text/plain": [
       "<Figure size 640x480 with 1 Axes>"
      ]
     },
     "metadata": {},
     "output_type": "display_data"
    }
   ],
   "source": [
    "#sns.countplot(data = base,x='ParentAnsweringSurvey',hue='StudentAbsenceDays')\n",
    "#Representando essa relação graficamente\n",
    "ax = answer_ausencia.plot(kind='barh', stacked=True)\n",
    "\n",
    "#Utilizando Linhas Verticais\n",
    "sns.set_style(\"whitegrid\")\n",
    "\n",
    "#Removendo Bordas\n",
    "ax.set(frame_on=False)\n",
    "\n",
    "#Ajustando Título e Labels\n",
    "plt.xlabel('Contagem de Faltas')\n",
    "plt.ylabel('Participação dos Pais')\n",
    "plt.title('Ausência x Participação')\n",
    "\n",
    "for p in ax.patches:\n",
    "    width, height = p.get_width(), p.get_height()\n",
    "    x, y = p.get_xy() \n",
    "    ax.annotate(f'{width:.0f}', (x + width/2, y + height/2), ha='center', va='center')\n",
    "\n",
    "plt.show()"
   ]
  },
  {
   "cell_type": "markdown",
   "id": "902803b7",
   "metadata": {},
   "source": [
    "É notório que a maioria expressiva dos estudantes mantém uma frequência escolar mais constante quando seus pais estão ativamente envolvidos em suas vidas acadêmicas. Isso fica evidente ao observar que quando os pais participam da vida acadêmica, apenas 29% dos alunos têm mais de 7 faltas, em contraste com os 54% quando os pais não participam."
   ]
  },
  {
   "cell_type": "markdown",
   "id": "531efaab",
   "metadata": {
    "jp-MarkdownHeadingCollapsed": true
   },
   "source": [
    "#### 4.1.4 Distribuição por gênero dos pais"
   ]
  },
  {
   "cell_type": "markdown",
   "id": "731a4d58",
   "metadata": {},
   "source": [
    "Esse tópico busca compreender se existe uma correlação significativa entre o gênero dos responsáveis (sejam eles pais, mães ou outros responsáveis legais) e a quantidade de faltas dos estudantes, relacionando as variáveis `Relation` e `StudentAbsenceDays`"
   ]
  },
  {
   "cell_type": "code",
   "execution_count": 15,
   "id": "18abf71f-81a9-4206-b716-2e5a7b8717d3",
   "metadata": {
    "collapsed": true,
    "jupyter": {
     "outputs_hidden": true,
     "source_hidden": true
    }
   },
   "outputs": [
    {
     "name": "stdout",
     "output_type": "stream",
     "text": [
      "StudentAbsenceDays    Above-7    Under-7\n",
      "Relation                                \n",
      "Father              138 (49%)  145 (51%)\n",
      "Mum                  53 (27%)  144 (73%)\n"
     ]
    }
   ],
   "source": [
    "#Criando relação entre o responsável e a evasão\n",
    "resp_ausencia = pd.crosstab(index=base['Relation'], columns=base['StudentAbsenceDays'])\n",
    "\n",
    "#Calculando a porcentagem de cada resultado\n",
    "porcentagem_relacao1 = (resp_ausencia.div(resp_ausencia.sum(axis=1), axis=0) * 100).round(0).astype(int)\n",
    "\n",
    "#Incluindo as porcentagens em parênteses ao lado dos valores\n",
    "for col in porcentagem_relacao1.columns:\n",
    "    porcentagem_relacao1[col] = resp_ausencia[col].astype(str) + ' (' + porcentagem_relacao1[col].astype(str) + '%)'\n",
    "\n",
    "print(porcentagem_relacao1)"
   ]
  },
  {
   "cell_type": "code",
   "execution_count": 16,
   "id": "301d4be3-14bf-40ad-a299-72c9bfb9f7eb",
   "metadata": {
    "collapsed": true,
    "jupyter": {
     "outputs_hidden": true,
     "source_hidden": true
    },
    "scrolled": true
   },
   "outputs": [
    {
     "data": {
      "image/png": "[encoded data removed]",
      "text/plain": [
       "<Figure size 640x480 with 1 Axes>"
      ]
     },
     "metadata": {},
     "output_type": "display_data"
    }
   ],
   "source": [
    "#Representando essa relação graficamente\n",
    "ax = resp_ausencia.plot(kind='bar', stacked=True)\n",
    "\n",
    "plt.xlabel('Responsável')\n",
    "plt.ylabel('Contagem de Faltas')\n",
    "plt.title('Ausência x Responsável')\n",
    "\n",
    "for p in ax.patches:\n",
    "    width, height = p.get_width(), p.get_height()\n",
    "    x, y = p.get_xy() \n",
    "    ax.annotate(f'{height:.0f}', (x + width/2, y + height/2), ha='center', va='center')\n",
    "\n",
    "plt.show()"
   ]
  },
  {
   "cell_type": "markdown",
   "id": "30791438",
   "metadata": {},
   "source": [
    "É notável que, quando a mãe assume a responsabilidade, os estudantes têm uma tendência mais forte de frequentar regularmente as aulas. Isso se evidencia pelo fato de que 73% dos estudantes mantêm uma frequência inferior a 7 faltas quando acompanhados por suas mães, em contraste com os 51% quando a responsabilidade recai sobre os pais."
   ]
  },
  {
   "cell_type": "markdown",
   "id": "e63c602d",
   "metadata": {
    "jp-MarkdownHeadingCollapsed": true
   },
   "source": [
    "#### 4.1.5 Distribuição por notas escolares"
   ]
  },
  {
   "cell_type": "markdown",
   "id": "f2633524-cc38-455c-b61d-d812a2e47267",
   "metadata": {},
   "source": [
    "Podemos analisar a variável `Class` em relação à `StudentAbsenceDays` para verificar a relação entre a evasão dos alunos e a média de notas."
   ]
  },
  {
   "cell_type": "code",
   "execution_count": 17,
   "id": "65a8aa7a-5fc4-465e-8db8-0b675ee2176d",
   "metadata": {
    "jupyter": {
     "source_hidden": true
    }
   },
   "outputs": [
    {
     "name": "stdout",
     "output_type": "stream",
     "text": [
      "StudentAbsenceDays    Above-7    Under-7\n",
      "Class                                   \n",
      "H                      4 (3%)  138 (97%)\n",
      "L                   116 (91%)    11 (9%)\n",
      "M                    71 (34%)  140 (66%)\n"
     ]
    }
   ],
   "source": [
    "#Criando relação entre a disciplina e a evasão\n",
    "notas_ausencia = pd.crosstab(index=base['Class'], columns=base['StudentAbsenceDays'])\n",
    "\n",
    "#Calculando a porcentagem de cada resultado\n",
    "porcentagem_relacao10 = (notas_ausencia.div(notas_ausencia.sum(axis=1), axis=0) * 100).round(0).astype(int)\n",
    "\n",
    "#Incluindo as porcentagens em parênteses ao lado dos valores\n",
    "for col in porcentagem_relacao10.columns:\n",
    "    porcentagem_relacao10[col] = notas_ausencia[col].astype(str) + ' (' + porcentagem_relacao10[col].astype(str) + '%)'\n",
    "\n",
    "\n",
    "print(porcentagem_relacao10)"
   ]
  },
  {
   "cell_type": "code",
   "execution_count": 18,
   "id": "d2241b4c-4ec3-44af-8582-9ed0775f68c4",
   "metadata": {
    "collapsed": true,
    "jupyter": {
     "outputs_hidden": true,
     "source_hidden": true
    }
   },
   "outputs": [
    {
     "data": {
      "image/png": "[encoded data removed]",
      "text/plain": [
       "<Figure size 640x480 with 1 Axes>"
      ]
     },
     "metadata": {},
     "output_type": "display_data"
    }
   ],
   "source": [
    "#Representando essa relação graficamente\n",
    "ax = notas_ausencia.plot(kind='barh', stacked=True)\n",
    "\n",
    "#Utilizando Linhas Verticais\n",
    "sns.set_style(\"whitegrid\")\n",
    "\n",
    "#Removendo Bordas e Adicionando Linha de Origem\n",
    "ax.set(frame_on=False)\n",
    "\n",
    "#Ajustando Título e Labels\n",
    "plt.xlabel('Contagem de Faltas')\n",
    "plt.ylabel('Notas')\n",
    "plt.title('Ausência x Notas')\n",
    "\n",
    "for p in ax.patches:\n",
    "    width, height = p.get_width(), p.get_height()\n",
    "    x, y = p.get_xy() \n",
    "    ax.annotate(f'{width:.0f}', (x + width/2, y + height/2), ha='center', va='center')\n",
    "\n",
    "plt.show()"
   ]
  },
  {
   "cell_type": "markdown",
   "id": "3ce8eef8-902a-41cd-9456-7cef1498faaf",
   "metadata": {},
   "source": [
    "É possível verificar que os alunos cuja média de notas é alta (`H`) tem uma forte tendência à faltar menos de 7 dias, enquanto que alunos com a média de notas baixa (`L`) tem a tendência inversa (evasão superior à 7 dias). Portanto, é possível interpretar que a média influencia diretamente na evasão: médias altas motivam alunos à faltarem menos, enquanto que médias baixas desmotivam os alunos à seguir indo nas aulas."
   ]
  },
  {
   "cell_type": "markdown",
   "id": "390729b3",
   "metadata": {
    "jp-MarkdownHeadingCollapsed": true
   },
   "source": [
    "#### 4.1.6 Distribuição por segmento "
   ]
  },
  {
   "cell_type": "markdown",
   "id": "6e70534a-4a31-45b7-813d-7c3ec0c09867",
   "metadata": {},
   "source": [
    "Podemos analisar a variável `StageID` em relação à `StudentAbsenceDays` para verificar a relação entre a evasão dos alunos e o segmento escolar."
   ]
  },
  {
   "cell_type": "code",
   "execution_count": 19,
   "id": "2120af17-1964-4bb2-9550-9d81ff6ea0bc",
   "metadata": {},
   "outputs": [
    {
     "name": "stdout",
     "output_type": "stream",
     "text": [
      "StudentAbsenceDays   Above-7    Under-7\n",
      "StageID                                \n",
      "HighSchool          11 (33%)   22 (67%)\n",
      "MiddleSchool        87 (35%)  161 (65%)\n",
      "lowerlevel          93 (47%)  106 (53%)\n"
     ]
    }
   ],
   "source": [
    "#Criando relação entre o segmento do estudante e a evasão\n",
    "segment_ausencia = pd.crosstab(index=base['StageID'], columns=base['StudentAbsenceDays'])\n",
    "\n",
    "#Calculando a porcentagem de cada resultado\n",
    "porcentagem_relacao3 = (segment_ausencia.div(segment_ausencia.sum(axis=1), axis=0) * 100).round(0).astype(int)\n",
    "\n",
    "#Incluindo as porcentagens em parênteses ao lado dos valores\n",
    "for col in porcentagem_relacao3.columns:\n",
    "    porcentagem_relacao3[col] = segment_ausencia[col].astype(str) + ' (' + porcentagem_relacao3[col].astype(str) + '%)'\n",
    "\n",
    "\n",
    "print(porcentagem_relacao3)"
   ]
  },
  {
   "cell_type": "code",
   "execution_count": 20,
   "id": "27f2073e-d24e-4e77-b438-600a495269e7",
   "metadata": {
    "collapsed": true,
    "jupyter": {
     "outputs_hidden": true,
     "source_hidden": true
    }
   },
   "outputs": [
    {
     "data": {
      "image/png": "[encoded data removed]",
      "text/plain": [
       "<Figure size 640x480 with 1 Axes>"
      ]
     },
     "metadata": {},
     "output_type": "display_data"
    }
   ],
   "source": [
    "#Representando essa relação graficamente\n",
    "ax = segment_ausencia.plot(kind='barh', stacked=True)\n",
    "\n",
    "#Utilizando Linhas Verticais\n",
    "sns.set_style(\"whitegrid\")\n",
    "\n",
    "#Removendo Bordas e Adicionando Linha de Origem\n",
    "ax.set(frame_on=False)\n",
    "\n",
    "#Ajustando Título e Labels\n",
    "plt.xlabel('Contagem de Faltas')\n",
    "plt.ylabel('Segmento')\n",
    "plt.title('Ausência x Segmento')\n",
    "\n",
    "for p in ax.patches:\n",
    "    width, height = p.get_width(), p.get_height()\n",
    "    x, y = p.get_xy() \n",
    "    ax.annotate(f'{width:.0f}', (x + width/2, y + height/2), ha='center', va='center')\n",
    "\n",
    "plt.show()"
   ]
  },
  {
   "cell_type": "markdown",
   "id": "a953d63a-10d2-4224-8a26-441348ff6660",
   "metadata": {},
   "source": [
    "Por conta de caracteristicas da própria base de dados, em que temos uma amostra muito pequena de alunos no Ensino Médio (High School), não conseguimos constatar se a tendência observada nos demais níveis se mantém."
   ]
  },
  {
   "cell_type": "markdown",
   "id": "6e140b7e",
   "metadata": {
    "jp-MarkdownHeadingCollapsed": true
   },
   "source": [
    "#### 4.1.7 Distribuição por país"
   ]
  },
  {
   "cell_type": "markdown",
   "id": "35c1a216",
   "metadata": {},
   "source": [
    "Podemos analisar a variável `PlaceofBirth` em relação à `StudentAbsenceDays` para verificar se o país onde o estudante vive influencia na taxa da sua frequência."
   ]
  },
  {
   "cell_type": "code",
   "execution_count": 21,
   "id": "8e75068e",
   "metadata": {
    "collapsed": true,
    "jupyter": {
     "outputs_hidden": true,
     "source_hidden": true
    },
    "scrolled": true
   },
   "outputs": [
    {
     "name": "stdout",
     "output_type": "stream",
     "text": [
      "StudentAbsenceDays   Above-7    Under-7\n",
      "PlaceofBirth                           \n",
      "Egypt                4 (44%)    5 (56%)\n",
      "Iran                 4 (67%)    2 (33%)\n",
      "Iraq                 6 (27%)   16 (73%)\n",
      "Jordan              71 (40%)  105 (60%)\n",
      "KuwaIT              82 (46%)   98 (54%)\n",
      "Lybia               6 (100%)     0 (0%)\n",
      "Morocco              1 (25%)    3 (75%)\n",
      "Palestine             0 (0%)  10 (100%)\n",
      "SaudiArabia          6 (38%)   10 (62%)\n",
      "Syria                2 (33%)    4 (67%)\n",
      "Tunis                3 (33%)    6 (67%)\n",
      "USA                  4 (25%)   12 (75%)\n",
      "lebanon              2 (11%)   17 (89%)\n",
      "venzuela              0 (0%)   1 (100%)\n"
     ]
    }
   ],
   "source": [
    "#Criando relação entre a disciplina e a evasão\n",
    "topic_country = pd.crosstab(index=base['PlaceofBirth'], columns=base['StudentAbsenceDays'])\n",
    "\n",
    "#Calculando a porcentagem de cada resultado\n",
    "porcentagem_relacao5 = (topic_country.div(topic_country.sum(axis=1), axis=0) * 100).round(0).astype(int)\n",
    "\n",
    "#Incluindo as porcentagens em parênteses ao lado dos valores\n",
    "for col in porcentagem_relacao5.columns:\n",
    "    porcentagem_relacao5[col] = topic_country[col].astype(str) + ' (' + porcentagem_relacao5[col].astype(str) + '%)'\n",
    "\n",
    "\n",
    "print(porcentagem_relacao5)"
   ]
  },
  {
   "cell_type": "code",
   "execution_count": 22,
   "id": "e0b676b8",
   "metadata": {
    "collapsed": true,
    "jupyter": {
     "outputs_hidden": true,
     "source_hidden": true
    }
   },
   "outputs": [
    {
     "data": {
      "image/png": "[encoded data removed]",
      "text/plain": [
       "<Figure size 640x480 with 1 Axes>"
      ]
     },
     "metadata": {},
     "output_type": "display_data"
    }
   ],
   "source": [
    "#Representando essa relação graficamente\n",
    "ax = topic_country.plot(kind='barh', stacked=True)\n",
    "\n",
    "#Utilizando Linhas Verticais\n",
    "sns.set_style(\"whitegrid\")\n",
    "\n",
    "#Removendo Bordas e Adicionando Linha de Origem\n",
    "ax.set(frame_on=False)\n",
    "\n",
    "#Ajustando Título e Labels\n",
    "plt.xlabel('Contagem de Faltas')\n",
    "plt.ylabel('Nacionalidade')\n",
    "plt.title('Ausência x Nacionalidade')\n",
    "\n",
    "for p in ax.patches:\n",
    "    width, height = p.get_width(), p.get_height()\n",
    "    x, y = p.get_xy() \n",
    "    ax.annotate(f'{width:.0f}', (x + width/2, y + height/2), ha='center', va='center')\n",
    "\n",
    "plt.show()"
   ]
  },
  {
   "cell_type": "markdown",
   "id": "57ceff77",
   "metadata": {},
   "source": [
    "Após analisarmos os dados, concluímos que a influência dos pais na frequência escolar não é tão significativa quanto se imaginava."
   ]
  },
  {
   "cell_type": "markdown",
   "id": "6c2f0f39-f1c9-4477-8581-9891a906015e",
   "metadata": {
    "jp-MarkdownHeadingCollapsed": true,
    "tags": []
   },
   "source": [
    "### 4.2 Variáveis Quantitativas"
   ]
  },
  {
   "cell_type": "code",
   "execution_count": 25,
   "id": "db16e9dc-73ab-40b6-9aee-97ca7a7d5979",
   "metadata": {
    "collapsed": true,
    "jupyter": {
     "outputs_hidden": true,
     "source_hidden": true
    },
    "scrolled": true
   },
   "outputs": [
    {
     "name": "stdout",
     "output_type": "stream",
     "text": [
      "===================raisedhands====================\n"
     ]
    },
    {
     "data": {
      "text/plain": [
       "count    480.000000\n",
       "mean      46.775000\n",
       "std       30.779223\n",
       "min        0.000000\n",
       "25%       15.750000\n",
       "50%       50.000000\n",
       "75%       75.000000\n",
       "max      100.000000\n",
       "Name: raisedhands, dtype: float64"
      ]
     },
     "metadata": {},
     "output_type": "display_data"
    },
    {
     "name": "stdout",
     "output_type": "stream",
     "text": [
      "\n",
      "\n",
      "=================VisITedResources=================\n"
     ]
    },
    {
     "data": {
      "text/plain": [
       "count    480.000000\n",
       "mean      54.797917\n",
       "std       33.080007\n",
       "min        0.000000\n",
       "25%       20.000000\n",
       "50%       65.000000\n",
       "75%       84.000000\n",
       "max       99.000000\n",
       "Name: VisITedResources, dtype: float64"
      ]
     },
     "metadata": {},
     "output_type": "display_data"
    },
    {
     "name": "stdout",
     "output_type": "stream",
     "text": [
      "\n",
      "\n",
      "================AnnouncementsView=================\n"
     ]
    },
    {
     "data": {
      "text/plain": [
       "count    480.000000\n",
       "mean      37.918750\n",
       "std       26.611244\n",
       "min        0.000000\n",
       "25%       14.000000\n",
       "50%       33.000000\n",
       "75%       58.000000\n",
       "max       98.000000\n",
       "Name: AnnouncementsView, dtype: float64"
      ]
     },
     "metadata": {},
     "output_type": "display_data"
    },
    {
     "name": "stdout",
     "output_type": "stream",
     "text": [
      "\n",
      "\n",
      "====================Discussion====================\n"
     ]
    },
    {
     "data": {
      "text/plain": [
       "count    480.000000\n",
       "mean      43.283333\n",
       "std       27.637735\n",
       "min        1.000000\n",
       "25%       20.000000\n",
       "50%       39.000000\n",
       "75%       70.000000\n",
       "max       99.000000\n",
       "Name: Discussion, dtype: float64"
      ]
     },
     "metadata": {},
     "output_type": "display_data"
    },
    {
     "name": "stdout",
     "output_type": "stream",
     "text": [
      "\n",
      "\n"
     ]
    },
    {
     "data": {
      "text/plain": [
       "array([[<Axes: title={'center': 'raisedhands'}>,\n",
       "        <Axes: title={'center': 'VisITedResources'}>],\n",
       "       [<Axes: title={'center': 'AnnouncementsView'}>,\n",
       "        <Axes: title={'center': 'Discussion'}>]], dtype=object)"
      ]
     },
     "execution_count": 25,
     "metadata": {},
     "output_type": "execute_result"
    },
    {
     "data": {
      "image/png": "[encoded data removed]",
      "text/plain": [
       "<Figure size 640x480 with 4 Axes>"
      ]
     },
     "metadata": {},
     "output_type": "display_data"
    }
   ],
   "source": [
    "#Olhando a porcentagem de todas as variaveis qualitativas\n",
    "quantitativas = dicionario.query('Tipo == \"Quantitativa\"')['Variavel'].to_list()\n",
    "\n",
    "#Criando o for para varrer toda a lista\n",
    "\n",
    "for coluna in quantitativas:\n",
    "    print(coluna.center(50,'='))\n",
    "    display(base[coluna].describe())\n",
    "    print('\\n')\n",
    "    \n",
    "#Olhando os histograma\n",
    "base[quantitativas].hist()"
   ]
  },
  {
   "cell_type": "markdown",
   "id": "5f7a7f48",
   "metadata": {},
   "source": [
    "- Ao analisar a variável `raisedhands`, observamos uma ampla distribuição de dados, o que nos leva à conclusão de que os estudantes podem ter uma participação ativa levantando a mão em frequência variável, seja ela baixa ou alta.\n",
    "- Ao analisar a variável `VisiTedResources`, notamos uma distribuição diversificada de dados. Isso nos leva à conclusão de que os estudantes podem ter uma participação variável ao acessar os recursos disponíveis, independentemente de ser baixa ou alta.\n",
    "- Ao analisar a variável `AnnouncementsView`, notamos que os dados apresentam uma tendência de queda mais acentuada do que de aumento. Isso sugere que uma parcela considerável dos alunos não acessa regularmente os anúncios, enquanto uma minoria o faz.\n",
    "- Ao analisar a variável `Discussion`, também observamos uma tendência de queda mais pronunciada nos dados em comparação com o aumento. Isso sugere que uma parcela considerável dos alunos participa menos das discussões no ambiente escolar, enquanto uma minoria se envolve mais ativamente.\""
   ]
  },
  {
   "cell_type": "code",
   "execution_count": 24,
   "id": "5b15c47a-2ea8-4b16-9858-f322ddeb22a6",
   "metadata": {},
   "outputs": [
    {
     "data": {
      "image/png": "[encoded data removed]",
      "text/plain": [
       "<Figure size 640x480 with 2 Axes>"
      ]
     },
     "metadata": {},
     "output_type": "display_data"
    }
   ],
   "source": [
    "#Olhando correlação entre as variáveis\n",
    "corrquant = base[quantitativas].corr()\n",
    "sns.heatmap(corrquant, annot=True)\n",
    "\n",
    "plt.show()"
   ]
  },
  {
   "cell_type": "markdown",
   "id": "a22173c9-4c42-430e-b033-f2c4c27ee770",
   "metadata": {},
   "source": [
    "Como percebido no gráfico de calor acima, existe baixa correlação entre as variáveis quantitativas. Além disso, ficou perceptível a não-usabilidade das variáveis quantitativas para explicar o modelo e a base de dados."
   ]
  }
 ],
 "metadata": {
  "kernelspec": {
   "display_name": "Python 3 (ipykernel)",
   "language": "python",
   "name": "python3"
  },
  "language_info": {
   "codemirror_mode": {
    "name": "ipython",
    "version": 3
   },
   "file_extension": ".py",
   "mimetype": "text/x-python",
   "name": "python",
   "nbconvert_exporter": "python",
   "pygments_lexer": "ipython3",
   "version": "3.8.10"
  }
 },
 "nbformat": 4,
 "nbformat_minor": 5
}
